{
 "cells": [
  {
   "cell_type": "markdown",
   "id": "82182510",
   "metadata": {},
   "source": [
    "#### pip install libraries"
   ]
  },
  {
   "cell_type": "code",
   "execution_count": null,
   "id": "f3565d1b",
   "metadata": {},
   "outputs": [],
   "source": [
    "!pip install colorlog\n",
    "!pip install mysqlclient==2.1.1\n",
    "!pip install pandas\n",
    "!pip install psycopg2\n",
    "!pip install PyJWT==2.6.0\n",
    "!pip install pymongo\n",
    "!pip install requests\n",
    "!pip install git+https://github.com/JaneliaSciComp/jrc_common.git@9958f27a98fc73d23881ef038e6ee387fe715954"
   ]
  },
  {
   "cell_type": "markdown",
   "id": "7b218116",
   "metadata": {},
   "source": [
    "#### Import required libraries"
   ]
  },
  {
   "cell_type": "code",
   "execution_count": null,
   "id": "9341fdf5",
   "metadata": {},
   "outputs": [],
   "source": [
    "import argparse\n",
    "import datetime\n",
    "from operator import attrgetter\n",
    "import sys\n",
    "import MySQLdb\n",
    "import pandas as pd\n",
    "import jrc_common.jrc_common as JRC"
   ]
  },
  {
   "cell_type": "markdown",
   "id": "fc62f796",
   "metadata": {},
   "source": [
    "#### SQL statements"
   ]
  },
  {
   "cell_type": "code",
   "execution_count": null,
   "id": "2a6d2bfd",
   "metadata": {},
   "outputs": [],
   "source": [
    "# Database\n",
    "READ = {\"MAIN\": \"SELECT loh.stock_name,sf.Project AS project,sf.Project_SubCat AS subcat\"\n",
    "                + \",YEAR(date_filled) AS year,COUNT(1) AS cnt FROM \"\n",
    "                + \"FlyStore_line_order_history_vw loh  JOIN StockFinder sf ON \"\n",
    "                + \"(sf.Stock_Name=loh.stock_name AND sf.Project IS NOT NULL) WHERE \"\n",
    "                + \"loh.stock_name IS NOT NULL AND loh.stock_name != 'KEEP EMPTY' \"\n",
    "                + \"AND date_filled IS NOT NULL GROUP BY 1,2,3,4\"\n",
    "       }\n",
    "DB = {}"
   ]
  },
  {
   "cell_type": "markdown",
   "id": "aa8f684e",
   "metadata": {},
   "source": [
    "#### Functions"
   ]
  },
  {
   "cell_type": "code",
   "execution_count": null,
   "id": "8095db2e",
   "metadata": {},
   "outputs": [],
   "source": [
    "def terminate_program(msg=None):\n",
    "    \"\"\" Log an optional error to output, close files, and exit\n",
    "        Keyword arguments:\n",
    "          err: error message\n",
    "        Returns:\n",
    "          None\n",
    "    \"\"\"\n",
    "    if msg:\n",
    "        LOGGER.critical(msg)\n",
    "    sys.exit(-1 if msg else 0)\n",
    "\n",
    "\n",
    "def initialize_program():\n",
    "    \"\"\" Initialize program\n",
    "        Keyword arguments:\n",
    "          None\n",
    "        Returns:\n",
    "          None\n",
    "    \"\"\"\n",
    "    try:\n",
    "        data = JRC.get_config(\"databases\")\n",
    "    except Exception as err: # pylint: disable=broad-exception-caught)\n",
    "        terminate_program(err)\n",
    "    dbo = attrgetter(\"flyboy.prod.read\")(data)\n",
    "    LOGGER.info(\"Connecting to %s prod on %s as %s\", dbo.name, dbo.host, dbo.user)\n",
    "    try:\n",
    "        DB['flyboy'] = JRC.connect_database(dbo)\n",
    "    except MySQLdb.Error as err:\n",
    "        terminate_program(JRC.sql_error(err))"
   ]
  },
  {
   "cell_type": "markdown",
   "id": "b63150a9",
   "metadata": {},
   "source": [
    "#### Initialize the program by getting parameters and opening a connection to FlyBoy"
   ]
  },
  {
   "cell_type": "code",
   "execution_count": null,
   "id": "d3ca27d1",
   "metadata": {},
   "outputs": [],
   "source": [
    "PARSER = argparse.ArgumentParser(description=\"FlyStore order report\")\n",
    "PARSER.add_argument('--file', dest='FILE', action='store',\n",
    "                    default='flystore_order_report.xlsx', help='Output file')\n",
    "PARSER.add_argument('--verbose', dest='VERBOSE', action='store_true',\n",
    "                    default=True, help='Flag, Chatty')\n",
    "PARSER.add_argument('--debug', dest='DEBUG', action='store_true',\n",
    "                    default=False, help='Flag, Very chatty')\n",
    "ARG = PARSER.parse_args('')\n",
    "LOGGER = JRC.setup_logging(ARG)\n",
    "initialize_program()"
   ]
  },
  {
   "cell_type": "markdown",
   "id": "55e73ee6",
   "metadata": {},
   "source": [
    "#### Get orders from FlyBoy"
   ]
  },
  {
   "cell_type": "code",
   "execution_count": null,
   "id": "cf7cd327",
   "metadata": {},
   "outputs": [],
   "source": [
    "    LOGGER.info(\"Fetching orders\")\n",
    "    try:\n",
    "        DB['flyboy']['cursor'].execute(READ['MAIN'])\n",
    "        rows = DB['flyboy']['cursor'].fetchall()\n",
    "    except MySQLdb.Error as err:\n",
    "        terminate_program(JRC.sql_error(err))\n",
    "    LOGGER.info(\"Found %d orders\", len(rows))"
   ]
  },
  {
   "cell_type": "markdown",
   "id": "3ccf1c0b",
   "metadata": {},
   "source": [
    "#### Create a dict keyed by stock name with the value a dict containing project, subcat, and yearly order counts"
   ]
  },
  {
   "cell_type": "code",
   "execution_count": null,
   "id": "cbfe7cbc",
   "metadata": {},
   "outputs": [],
   "source": [
    "    stock = {}\n",
    "    minyear = maxyear = datetime.datetime.now().year\n",
    "    for row in rows:\n",
    "        if row['year'] < minyear:\n",
    "            minyear = row['year']\n",
    "        if row['stock_name'] not in stock:\n",
    "            stock[row['stock_name']] = {'project': row['project'], 'subcat': row['subcat']}\n",
    "        stock[row['stock_name']][row['year']] = row['cnt']\n",
    "    LOGGER.info(\"Found %d stocks\", len(stock))"
   ]
  },
  {
   "cell_type": "markdown",
   "id": "9af1139e",
   "metadata": {},
   "source": [
    "#### Create an array of dicts containing stock name, project, subcat, yearly counts, and total count"
   ]
  },
  {
   "cell_type": "code",
   "execution_count": null,
   "id": "7d7f6351",
   "metadata": {},
   "outputs": [],
   "source": [
    "    prow = []\n",
    "    for stk, row in stock.items():\n",
    "        payload = {'Stock': stk, 'Project': row['project'], 'SubCat': row['subcat']}\n",
    "        total = 0\n",
    "        for year in range(minyear, maxyear+1):\n",
    "            if year in row:\n",
    "                payload[year] = row[year]\n",
    "                total += payload[year]\n",
    "            else:\n",
    "                payload[year] = 0\n",
    "        payload['Total'] = total\n",
    "        prow.append(payload)"
   ]
  },
  {
   "cell_type": "markdown",
   "id": "03683228",
   "metadata": {},
   "source": [
    "#### Create a dataframe and output it as an Excel spreadsheet"
   ]
  },
  {
   "cell_type": "code",
   "execution_count": null,
   "id": "3780914d",
   "metadata": {},
   "outputs": [],
   "source": [
    "    pdf = pd.DataFrame(prow)\n",
    "    LOGGER.info(\"Will output %d rows for years %d-%d\", pdf.shape[0], minyear, maxyear)\n",
    "    pdf.to_excel(ARG.FILE, index=False)\n",
    "    print(f\"Wrote report to {ARG.FILE}\")"
   ]
  },
  {
   "cell_type": "code",
   "execution_count": null,
   "id": "846db0a2",
   "metadata": {},
   "outputs": [],
   "source": []
  }
 ],
 "metadata": {
  "kernelspec": {
   "display_name": "Python 3 (ipykernel)",
   "language": "python",
   "name": "python3"
  },
  "language_info": {
   "codemirror_mode": {
    "name": "ipython",
    "version": 3
   },
   "file_extension": ".py",
   "mimetype": "text/x-python",
   "name": "python",
   "nbconvert_exporter": "python",
   "pygments_lexer": "ipython3",
   "version": "3.10.12"
  }
 },
 "nbformat": 4,
 "nbformat_minor": 5
}
